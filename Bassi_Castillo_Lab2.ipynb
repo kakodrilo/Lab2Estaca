{
 "cells": [
  {
   "cell_type": "markdown",
   "metadata": {},
   "source": [
    "<img src=\"img/usmlogo.png\" style=\"float:right;height:85px\"> <img src=\"img/dilogo.png\" style=\"float:left;height:90px\">\n",
    "<center>\n",
    "    <h1> Laboratorio 1 </h1>\n",
    "    <h2> Profesor: Ricardo Ñanculef </h2>\n",
    "    <h3> Ayudante: Gabriel Ortega </h3>\n",
    "    <h4> Renato Bassi Castillo ; 201773521-K ; Malla Nueva </h4>\n",
    "    <h4> Joaquín Castillo Tapia ; 201773520-1 ; Malla Nueva </h4>\n",
    "</center>\n",
    "<p>\n",
    "<center><h4>Mayo 2019</h4></center>\n",
    "</p>"
   ]
  },
  {
   "cell_type": "markdown",
   "metadata": {},
   "source": [
    "---\n",
    "# 1. Retención de Clientes\n",
    ">a) Haga un análisis exploratorio **a su criterio** del dataset y extraiga 3 conclusiones acerca del conjunto de datos"
   ]
  },
  {
   "cell_type": "markdown",
   "metadata": {},
   "source": [
    "**R.-** Para el análisis de los datos entregados se construirán tres gráficos y dos histogramas a modo de resumen. Se concluirá en base a lo observado.\n",
    "\n",
    "## Desarrollo"
   ]
  },
  {
   "cell_type": "markdown",
   "metadata": {},
   "source": [
    "Se procede a extraer los datos que serán utilizados en la construcción de las gráficas."
   ]
  },
  {
   "cell_type": "code",
   "execution_count": 2,
   "metadata": {
    "collapsed": true
   },
   "outputs": [],
   "source": [
    "import csv\n",
    "import matplotlib.pyplot as plt\n",
    "import seaborn as sns\n",
    "import numpy as np\n",
    "sns.set()\n",
    "%matplotlib inline \n",
    "\n",
    "D={}\n",
    "D['IS_3']=0\n",
    "D['IS_2']=0\n",
    "D['IS_1']=0\n",
    "D['IS_0']=0\n",
    "\n",
    "D['SC_I']=0\n",
    "D['SC_T']=0\n",
    "\n",
    "D['C_I']=0\n",
    "D['C_T']=0\n",
    "\n",
    "Dm_SC={}\n",
    "Dm_C={}\n",
    "\n",
    "\n",
    "with open('churn.csv', newline='') as File:  \n",
    "    reader = csv.reader(File)\n",
    "    for line in reader:\n",
    "        if (line[8] == 'DSl' or line[8] == 'Fiber optic'):\n",
    "            if(line [9] == 'Yes'):\n",
    "                if(line [10] == 'Yes'):\n",
    "                    if(line [11] == 'Yes'):\n",
    "                        D['IS_3']+=1\n",
    "                    else:\n",
    "                        D['IS_2']+=1\n",
    "                else:\n",
    "                    if(line [11] == 'Yes'):\n",
    "                        D['IS_2']+=1\n",
    "                    else:\n",
    "                        D['IS_1']+=1\n",
    "            else:\n",
    "                if(line [10] == 'Yes'):\n",
    "                    if(line [11] == 'Yes'):\n",
    "                        D['IS_2']+=1\n",
    "                    else:\n",
    "                        D['IS_1']+=1\n",
    "                else:\n",
    "                    if(line [11] == 'Yes'):\n",
    "                        D['IS_1']+=1\n",
    "                    else:\n",
    "                        D['IS_0']+=1\n",
    "                        \n",
    "            if (line[2] == '1'):\n",
    "                D['SC_I']+=1\n",
    "            elif (line[2] == '0'):\n",
    "                D['C_I']+=1\n",
    "        if (line[2]=='1'):\n",
    "            if (line[6]=='Yes'):\n",
    "                D['SC_T']+=1\n",
    "                \n",
    "            if(int(line[5]) not in Dm_SC):\n",
    "                Dm_SC[int(line[5])]=0\n",
    "            Dm_SC[int(line[5])]+=1\n",
    "        elif(line[2]=='0'):\n",
    "            if (line[6]=='Yes'):\n",
    "                D['C_T']+=1\n",
    "                \n",
    "            if(int(line[5]) not in Dm_C):\n",
    "                Dm_C[int(line[5])]=0\n",
    "            Dm_C[int(line[5])]+=1\n",
    "        "
   ]
  },
  {
   "cell_type": "markdown",
   "metadata": {},
   "source": [
    "### Funciones a utilizar"
   ]
  },
  {
   "cell_type": "markdown",
   "metadata": {},
   "source": [
    "**Grafico(list L1, list L2, str title, str x_name, str y_name)**\n",
    "\n",
    "Funcíon que grafica los datos entregados en la lista L1, que son etiquetados con los str presentes en la lista L2, se proporciona además el titulo del gráfico y los nombres de cada eje."
   ]
  },
  {
   "cell_type": "code",
   "execution_count": 4,
   "metadata": {
    "collapsed": true
   },
   "outputs": [],
   "source": [
    "def Grafico(L1,L2,title,x_name,y_name):\n",
    "    \n",
    "    x=L2\n",
    "    y=L1\n",
    "\n",
    "\n",
    "    y_pos = np.arange(len(y))\n",
    "    performance = x\n",
    "\n",
    "    plt.barh(y_pos, y, align='center', alpha=0.5)\n",
    "    plt.yticks(y_pos, x)\n",
    "    plt.ylabel(y_name)\n",
    "    plt.xlabel(x_name)\n",
    "    plt.title(title)\n",
    "\n",
    "    plt.show()"
   ]
  },
  {
   "cell_type": "markdown",
   "metadata": {},
   "source": [
    "**Histograma(dict D, str title, str x_name, str y_name)**\n",
    "\n",
    "Función que construye un histograma con los datos almacenados en el diccionario, el valor corresponde a la frecuancia de su respectiva llave. Adéma se proporciona los str de título y de los ejes del gráfico."
   ]
  },
  {
   "cell_type": "code",
   "execution_count": 57,
   "metadata": {
    "collapsed": true
   },
   "outputs": [],
   "source": [
    "def Histograma(D,title,x_name,y_name):\n",
    "    x=[]\n",
    "    y=[]\n",
    "\n",
    "    for i in D.items():\n",
    "        x.append(int(i[0]))\n",
    "        y.append(i[1])\n",
    "\n",
    "    valor_max = max(x)\n",
    "    valor_min = min(x)\n",
    "    \n",
    "    fr_max = max(y)\n",
    "    fr_min = min(y)\n",
    "\n",
    "    k = int(np.log2(len(D)+1))\n",
    "\n",
    "    plt.hist(x,len(D),(valor_min, valor_max),False,y)\n",
    "\n",
    "    plt.axis([valor_min, valor_max, fr_min,fr_max])\n",
    "    plt.title(title)\n",
    "    plt.ylabel(y_name)\n",
    "    plt.xlabel(x_name)\n",
    "\n",
    "    plt.show()"
   ]
  },
  {
   "cell_type": "markdown",
   "metadata": {},
   "source": [
    "### Construcción y Análisis"
   ]
  },
  {
   "cell_type": "markdown",
   "metadata": {},
   "source": [
    "Se grafica la cantidad de clientes con servicio de Internet y con servicio de Telefonía respecto a los grupos de Adulto mayor y cliente común."
   ]
  },
  {
   "cell_type": "code",
   "execution_count": 6,
   "metadata": {},
   "outputs": [
    {
     "data": {
      "image/png": "[encoded data removed]",
      "text/plain": [
       "<matplotlib.figure.Figure at 0x7f13934a8dd8>"
      ]
     },
     "metadata": {},
     "output_type": "display_data"
    },
    {
     "data": {
      "image/png": "[encoded data removed]",
      "text/plain": [
       "<matplotlib.figure.Figure at 0x7f13934a8a58>"
      ]
     },
     "metadata": {},
     "output_type": "display_data"
    }
   ],
   "source": [
    "Grafico([D['SC_I'],D['SC_T']],['Internet','Telefonía'],'Adulto Mayor','Cantidad de clientes','Servicio')\n",
    "Grafico([D['C_I'],D['C_T']],['Internet','Telefonía'],'Cliente Común','Cantidad de clientes','Servicio')"
   ]
  },
  {
   "cell_type": "markdown",
   "metadata": {},
   "source": [
    "Se observa, a simple vista, que en ambos grupos predomina el sercio telefoníco. Esto se puede deber a varios factores, uno de ellos es, probablemente, la calidad de los servicios, pues si un servicio en una compañía ano cumple los estándares del cliente este no tendrá muchos clientes. En este caso se podŕia decir que la empresa es conocida por sus servicios telefónicos, y que sus servicios de internet no son conocidos o de calidad.\n",
    "\n",
    "Particularmete se observa que los Adultos Mayores tienden a contratar más servicios Telefónicos que servicios de Internet, esto se debe principalemte a que ellos no están relacionados con la tecnología de hoy en día en donde el Internet es fundamental. Por lo tanto, no es sorprendente esta diferencia.\n",
    "\n",
    "En cuanto a los Cliente Comunes, se observa una gran diferencia entre los servicios contratados. Pues hay una diferencia de aproximadamente 3000 clientes con servicio de Internet en comparación a la cantidad de clientes con servicio Telefónico. Esto avala la explicación dada en primera instancia, en dónde se deduce que la compañía es más conocida por sus servicios de Telefonía que por sus servicios de Internet, ya que, en comparación a los adultos mayores estos clientes si están relacionados con las nuevas tecnologías. "
   ]
  },
  {
   "cell_type": "markdown",
   "metadata": {},
   "source": [
    "___\n",
    "A continuación se grafica la cantidad de clientes respecto a la cantidad de servicios en seguridad de Internet contratados.\n",
    "\n",
    "_ + Se entiende como servicio de seguridad: Online Security, Online Backup y Device Protection_"
   ]
  },
  {
   "cell_type": "code",
   "execution_count": 7,
   "metadata": {},
   "outputs": [
    {
     "data": {
      "image/png": "[encoded data removed]",
      "text/plain": [
       "<matplotlib.figure.Figure at 0x7f13934a8d30>"
      ]
     },
     "metadata": {},
     "output_type": "display_data"
    }
   ],
   "source": [
    "Grafico([D['IS_3'],D['IS_2'],D['IS_1'],D['IS_0']],['3','2','1','0'],'Seguridad Informática','Cantidad de clientes','Cantidad de Servicios') "
   ]
  },
  {
   "cell_type": "markdown",
   "metadata": {},
   "source": [
    "Se observa en el gráfico que hay poco más de 300 clientes que contrataron los 3 servicios de seguridad, y que la mayoría de los clientes prefieren tener sólo un servicio de seguridad contratado (sobre los 1000 clientes). Dándose a entender que las personas no están muy preocupada por sus datos o dispositivos tecnológicos, esto se puede deber, principalmente, a que los clientes no tienen datos importantes que proteger, y utilizan los servicios para recreammiento y comunicación, y no para almacenar y compartir información delicada. Esto se refuerza al observar que hay maś de 900 clientes que no cuentan con servicio de seguridad, y poco más de 700 clientes que sólo contratan dos servicios. "
   ]
  },
  {
   "cell_type": "markdown",
   "metadata": {},
   "source": [
    "___\n",
    "Se construyen dos histogramas en base a la cantidad de meses como clientes en la compañía. Los datos se dividen en dos grupos, Adulto Mayor y Cliente Común."
   ]
  },
  {
   "cell_type": "code",
   "execution_count": 58,
   "metadata": {},
   "outputs": [
    {
     "data": {
      "image/png": "[encoded data removed]",
      "text/plain": [
       "<matplotlib.figure.Figure at 0x7f138b1244a8>"
      ]
     },
     "metadata": {},
     "output_type": "display_data"
    },
    {
     "data": {
      "image/png": "[encoded data removed]",
      "text/plain": [
       "<matplotlib.figure.Figure at 0x7f138b1adc88>"
      ]
     },
     "metadata": {},
     "output_type": "display_data"
    }
   ],
   "source": [
    "Histograma(Dm_SC,'Adulto Mayor','Cantidad de Meses','Cantidad de clientes')\n",
    "Histograma(Dm_C,'Cliente Común','Cantidad de Meses','Cantidad de clientes')"
   ]
  },
  {
   "cell_type": "markdown",
   "metadata": {},
   "source": [
    "Al simple vista, se observa una distribución de datos similar entre los dos grupos de clientes, pero en distintas cantidades. Esto denota que ambos grupos se comportan igual en realación a la cantidad de meses con algún servicio de la compañía. En ambos grupos predominan los cleintes nuevos (1 mes como cleinte), pero estos son seguidos en cantidad por los clientes más fieles (sobre los 70 meses como cliente). Esto indica que la empresa tiene un bajo nivel de retención de clientes después del primer mes, esto ya que la cantidad de clientes baja abruptamente, pero también nos indica que los clientes que se quedan después del primer mes se mantienen constantes por mucho tiempo, pues se observa una frecuencia nivelada entre los meses 2 y 70. Es necesario destacar que esta nievlación no se cumple del todo en el grupo de Adultos Mayores, indicando que la retención de este tipo de clientes es más variable.\n",
    "\n"
   ]
  },
  {
   "cell_type": "markdown",
   "metadata": {},
   "source": [
    "> b.1) Determine la probabilidad de que: <ul>\n",
    "    <li>Un cliente sea mujer dado que tiene fibra óptica </li>\n",
    "    <li>Un cliente sea hombre dado que tiene fibra óptica</li>\n",
    "    <li>Un cliente sea mujer dado que no tiene fibra óptica</li>\n",
    "    <li>Un cliente sea hombre dado que no tiene fibra óptica</li>\n",
    "    </ul>\n",
    "    Además indique cuál/es de estos pares deben sumar 1 (Si es que algún par debe sumar esta cantidad). Justifique su respuesta.\n",
    "    "
   ]
  },
  {
   "cell_type": "markdown",
   "metadata": {},
   "source": [
    "**R.-** Para calcular estas probabilidades se extraeran los datos necesarios y se utilizará la teoría de probabilidad clásica."
   ]
  },
  {
   "cell_type": "markdown",
   "metadata": {},
   "source": [
    "## Desarrollo"
   ]
  },
  {
   "cell_type": "markdown",
   "metadata": {},
   "source": [
    "### Extración de Datos\n"
   ]
  },
  {
   "cell_type": "code",
   "execution_count": 9,
   "metadata": {
    "collapsed": true
   },
   "outputs": [],
   "source": [
    "C_Fop = 0\n",
    "C_mjrFop = 0\n",
    "C_hbrFop = 0\n",
    "\n",
    "C_NFop = 0\n",
    "C_mjrNFop = 0\n",
    "C_hbrNFop = 0\n",
    "\n",
    "T_datos = 0 \n",
    "\n",
    "with open('churn.csv', newline='') as File:  \n",
    "    reader = csv.reader(File)\n",
    "    for line in reader:\n",
    "        if(line[1]==\"Female\"):\n",
    "            T_datos+=1\n",
    "            if(line[8]=='Fiber optic'):\n",
    "                C_mjrFop+=1\n",
    "                C_Fop+=1\n",
    "            else:\n",
    "                C_NFop+=1\n",
    "                C_mjrNFop+=1\n",
    "                \n",
    "        elif(line[1]=='Male'):\n",
    "            T_datos+=1\n",
    "            if(line[8]=='Fiber optic'):\n",
    "                C_hbrFop+=1\n",
    "                C_Fop+=1\n",
    "            else:\n",
    "                C_NFop+=1\n",
    "                C_hbrNFop+=1\n",
    "        "
   ]
  },
  {
   "cell_type": "markdown",
   "metadata": {},
   "source": [
    "### Trabajo de datos y respuestas"
   ]
  },
  {
   "cell_type": "code",
   "execution_count": 10,
   "metadata": {
    "collapsed": true
   },
   "outputs": [],
   "source": [
    "P_Fop = C_Fop/T_datos\n",
    "P_mjrFop = C_mjrFop/T_datos\n",
    "P_hbrFop = C_hbrFop/T_datos\n",
    "\n",
    "P_NFop = C_NFop/T_datos\n",
    "P_mjrNFop = C_mjrNFop/T_datos\n",
    "P_hbrNFop = C_hbrNFop/T_datos\n"
   ]
  },
  {
   "cell_type": "markdown",
   "metadata": {},
   "source": [
    "Aplicando la teroría de probabilidad condicional se obtienen los siguientes resultados:"
   ]
  },
  {
   "cell_type": "markdown",
   "metadata": {},
   "source": [
    "___\n",
    "<li>Un cliente sea mujer dado que tiene fibra óptica: </li>"
   ]
  },
  {
   "cell_type": "code",
   "execution_count": 11,
   "metadata": {},
   "outputs": [
    {
     "name": "stdout",
     "output_type": "stream",
     "text": [
      "0.5016149870801033\n"
     ]
    }
   ],
   "source": [
    "M_F = P_mjrFop/P_Fop\n",
    "print(M_F)"
   ]
  },
  {
   "cell_type": "markdown",
   "metadata": {},
   "source": [
    "___\n",
    "<li>Un cliente sea hombre dado que tiene fibra óptica:</li>"
   ]
  },
  {
   "cell_type": "code",
   "execution_count": 12,
   "metadata": {},
   "outputs": [
    {
     "name": "stdout",
     "output_type": "stream",
     "text": [
      "0.4983850129198967\n"
     ]
    }
   ],
   "source": [
    "H_F = P_hbrFop/P_Fop\n",
    "print(H_F)"
   ]
  },
  {
   "cell_type": "markdown",
   "metadata": {},
   "source": [
    "___\n",
    "<li>Un cliente sea mujer dado que no tiene fibra óptica:</li>"
   ]
  },
  {
   "cell_type": "code",
   "execution_count": 13,
   "metadata": {},
   "outputs": [
    {
     "name": "stdout",
     "output_type": "stream",
     "text": [
      "0.49024575627058525\n"
     ]
    }
   ],
   "source": [
    "M_NF = P_mjrNFop/P_NFop\n",
    "print(M_NF)"
   ]
  },
  {
   "cell_type": "markdown",
   "metadata": {},
   "source": [
    "___\n",
    "<li>Un cliente sea hombre dado que no tiene fibra óptica:</li>"
   ]
  },
  {
   "cell_type": "code",
   "execution_count": 14,
   "metadata": {},
   "outputs": [
    {
     "name": "stdout",
     "output_type": "stream",
     "text": [
      "0.5097542437294148\n"
     ]
    }
   ],
   "source": [
    "H_NF = P_hbrNFop/P_NFop\n",
    "print(H_NF)"
   ]
  },
  {
   "cell_type": "markdown",
   "metadata": {},
   "source": [
    "___\n",
    "En base a la Teoría de Probabilidades y los axiomas fundamenteales, los cuales indican que la probalidad de la no ocurrencia de A es igual a uno menos la probabilidad de ocurrencia de A ( _P(A') = 1 - P(A)_ ), se deduce que los pares que deben sumar 1 son los que difieren en el genero del cliente, es decir, hombre dado que tiene fibra óptica con mujer dado que tiene fibra óptica, y hombre dado que no tiene fibra óptica con mujer dado que no tiene fibra óptica.\n",
    "\n",
    "Para comprobarlo se suman los valores encontrados:"
   ]
  },
  {
   "cell_type": "markdown",
   "metadata": {},
   "source": [
    "P(H | Fop) + P(M | Fop) = "
   ]
  },
  {
   "cell_type": "code",
   "execution_count": 62,
   "metadata": {},
   "outputs": [
    {
     "name": "stdout",
     "output_type": "stream",
     "text": [
      "1.0\n"
     ]
    }
   ],
   "source": [
    "print(H_F+M_F)"
   ]
  },
  {
   "cell_type": "markdown",
   "metadata": {},
   "source": [
    "P(H | Fop') + P(M | Fop') = "
   ]
  },
  {
   "cell_type": "code",
   "execution_count": 63,
   "metadata": {},
   "outputs": [
    {
     "name": "stdout",
     "output_type": "stream",
     "text": [
      "1.0\n"
     ]
    }
   ],
   "source": [
    "print(H_NF+M_NF)"
   ]
  },
  {
   "cell_type": "markdown",
   "metadata": {},
   "source": [
    ">b.2) ¿Es posible concluir que si un cliente es hombre tiene más probabilidad de tener fibra óptica? ¿Y si es mujer? ¿Por qué?"
   ]
  },
  {
   "cell_type": "markdown",
   "metadata": {},
   "source": [
    "**R.-** Para dar respuesta a estas prefuntas, calcularemos la probabilidad de ser tener fibra óptica y la probabilidad de tener DSl dado que es hombre y dado que es mujer."
   ]
  },
  {
   "cell_type": "markdown",
   "metadata": {},
   "source": [
    "## Desarrollo\n",
    "\n",
    "### Extracción de datos"
   ]
  },
  {
   "cell_type": "code",
   "execution_count": 64,
   "metadata": {
    "collapsed": true
   },
   "outputs": [],
   "source": [
    "C_mjr = 0\n",
    "C_hbr = 0\n",
    "\n",
    "C_mjrDSL = 0\n",
    "C_hbrDSL = 0\n",
    "\n",
    "\n",
    "with open('churn.csv', newline='') as File:  \n",
    "    reader = csv.reader(File)\n",
    "    for line in reader:\n",
    "        if (line[1]=='Female'):\n",
    "            C_mjr+=1\n",
    "            if (line[8]=='DSL'):\n",
    "                C_mjrDSL+=1\n",
    "        elif (line[1]=='Male'):\n",
    "            C_hbr+=1\n",
    "            if (line[8]=='DSL'):\n",
    "                C_hbrDSL+=1\n",
    "                \n",
    "P_mjr = C_mjr/T_datos\n",
    "P_hbr = C_hbr/T_datos\n",
    "\n",
    "P_mjrDSL = C_mjrDSL/T_datos\n",
    "P_hbrDSL = C_hbrDSL/T_datos"
   ]
  },
  {
   "cell_type": "markdown",
   "metadata": {},
   "source": [
    "### Resultados y Respuestas"
   ]
  },
  {
   "cell_type": "markdown",
   "metadata": {},
   "source": [
    "Probabilidad de tener fibra óptica dado que el cliente es hombre:"
   ]
  },
  {
   "cell_type": "code",
   "execution_count": 17,
   "metadata": {},
   "outputs": [
    {
     "name": "stdout",
     "output_type": "stream",
     "text": [
      "0.4340365682137834\n"
     ]
    }
   ],
   "source": [
    "F_H = P_hbrFop/P_hbr\n",
    "print(F_H)"
   ]
  },
  {
   "cell_type": "markdown",
   "metadata": {},
   "source": [
    "Probabilidad de tener conección DSL dado que el cliente es hombre:"
   ]
  },
  {
   "cell_type": "code",
   "execution_count": 18,
   "metadata": {},
   "outputs": [
    {
     "name": "stdout",
     "output_type": "stream",
     "text": [
      "0.3468354430379747\n"
     ]
    }
   ],
   "source": [
    "D_H = P_hbrDSL/P_hbr\n",
    "print(D_H)"
   ]
  },
  {
   "cell_type": "markdown",
   "metadata": {},
   "source": [
    "En base a los resultados se puede decir que sí, que el cliente sea hombre es un buen predictor de tener fibra ótica, pues el valor encontrad (0.43) indica que la mayoría de los hombres poseen este tipo de servicio en comparación al valor encontrado para el tipo de conección DSL (0.34)."
   ]
  },
  {
   "cell_type": "markdown",
   "metadata": {},
   "source": [
    "___\n",
    "Probabilidad de tener fibra óptica dado que el cliente es mujer:"
   ]
  },
  {
   "cell_type": "code",
   "execution_count": 19,
   "metadata": {},
   "outputs": [
    {
     "name": "stdout",
     "output_type": "stream",
     "text": [
      "0.4452408256880734\n"
     ]
    }
   ],
   "source": [
    "F_M = P_mjrFop/P_mjr\n",
    "print(F_M)"
   ]
  },
  {
   "cell_type": "markdown",
   "metadata": {},
   "source": [
    "Probabilidad de tener conección DSL dado que el cliente es mujer:"
   ]
  },
  {
   "cell_type": "code",
   "execution_count": 20,
   "metadata": {},
   "outputs": [
    {
     "name": "stdout",
     "output_type": "stream",
     "text": [
      "0.34059633027522934\n"
     ]
    }
   ],
   "source": [
    "D_M = P_mjrDSL/P_mjr\n",
    "print(D_M)"
   ]
  },
  {
   "cell_type": "markdown",
   "metadata": {},
   "source": [
    "En cuanto a los clientes de genero femenino, también es un buen predictor del servicio de fibra óptica. Pues el valor encontrado (0.46) es significativo en comparación a la probabilidad de tener conección DSL (0.34). Por ende es más probable encontrar una mujer con fibra óptica que una con conección DSL."
   ]
  },
  {
   "cell_type": "markdown",
   "metadata": {},
   "source": [
    ">c) Utilizando criterios de probabilidad condicional ¿Hay algún servicio de internet más propenso a la fuga?"
   ]
  },
  {
   "cell_type": "markdown",
   "metadata": {},
   "source": [
    "**R.-** Para responder la pregunta se calculará la probabilidad de fuga dado tener fibra óptica y la probabilidad de fuga dado tener conección DSL."
   ]
  },
  {
   "cell_type": "markdown",
   "metadata": {},
   "source": [
    "## Desarrolllo"
   ]
  },
  {
   "cell_type": "markdown",
   "metadata": {},
   "source": [
    "### Extracción de datos"
   ]
  },
  {
   "cell_type": "code",
   "execution_count": 22,
   "metadata": {
    "collapsed": true
   },
   "outputs": [],
   "source": [
    "C_Fop = 0\n",
    "C_DSL = 0\n",
    "\n",
    "C_Fopf = 0\n",
    "C_DSLf = 0\n",
    "\n",
    "with open('churn.csv', newline='') as File:  \n",
    "    reader = csv.reader(File)\n",
    "    for line in reader:\n",
    "        if (line[8] == 'DSL'):\n",
    "            C_DSL+=1 \n",
    "            if (line[20] == 'Yes'):\n",
    "                C_DSLf+=1\n",
    "        elif (line[8] == 'Fiber optic'):\n",
    "            C_Fop+=1 \n",
    "            if (line[20] == 'Yes'):\n",
    "                C_Fopf+=1\n",
    "\n",
    "P_Fop = C_Fop/T_datos\n",
    "P_DSL = C_DSL/T_datos\n",
    "\n",
    "P_Fopf = C_Fopf/T_datos\n",
    "P_DSLf = C_DSLf/T_datos"
   ]
  },
  {
   "cell_type": "markdown",
   "metadata": {},
   "source": [
    "### Trabajo de datos y Respuesta"
   ]
  },
  {
   "cell_type": "markdown",
   "metadata": {},
   "source": [
    "Probabilidad de fuga dado tener fibra óptica:"
   ]
  },
  {
   "cell_type": "code",
   "execution_count": 67,
   "metadata": {},
   "outputs": [
    {
     "name": "stdout",
     "output_type": "stream",
     "text": [
      "0.4189276485788114\n"
     ]
    }
   ],
   "source": [
    "F_Fop = P_Fopf/P_Fop\n",
    "print(F_Fop)"
   ]
  },
  {
   "cell_type": "markdown",
   "metadata": {},
   "source": [
    "Probabilidad de fuga dado tener fibra óptica:"
   ]
  },
  {
   "cell_type": "code",
   "execution_count": 25,
   "metadata": {},
   "outputs": [
    {
     "name": "stdout",
     "output_type": "stream",
     "text": [
      "0.18959107806691447\n"
     ]
    }
   ],
   "source": [
    "F_DSL = P_DSLf/P_DSL\n",
    "print(F_DSL)"
   ]
  },
  {
   "cell_type": "markdown",
   "metadata": {},
   "source": [
    "En base a la información encontrada se puede decir que el servicio de fibra óptica es más propensa a la fuga que el servicio de DSL. Esto, ya que la probabilidad de fuga dado tener fibra óptica es de _0.42_ y la probabilidad de fuga dado tener conección DSL es de _0.19_."
   ]
  },
  {
   "cell_type": "markdown",
   "metadata": {},
   "source": [
    ">d) Utilizando criterios de probabilidad condicional, ¿es el cargo mensual un buen predictor de la fuga? y ¿es la fuga un buen predictor del cargo mensual de un cliente?"
   ]
  },
  {
   "cell_type": "markdown",
   "metadata": {},
   "source": [
    "**R.-** Para el desarrollo de está respuesta se clasificaron los datos de Cargo Mensual en 4 grupos, menor o igual a 25, mayor a 25 y menor o igual a 50, mayor a 50 y menor o igual a 75, mayor a 75 y menor o igual a 100, y mayor a 100. Con estos se construyeron dos graficos de barra con las probabilidades correspondientes."
   ]
  },
  {
   "cell_type": "markdown",
   "metadata": {},
   "source": [
    "## Desarrollo\n",
    "\n",
    "### Extracción de datos"
   ]
  },
  {
   "cell_type": "code",
   "execution_count": 91,
   "metadata": {
    "collapsed": true
   },
   "outputs": [],
   "source": [
    "D_CM = {}\n",
    "D_CM[25] = 0\n",
    "D_CM[50] = 0\n",
    "D_CM[75] = 0\n",
    "D_CM[100] = 0\n",
    "D_CM[101] = 0\n",
    "\n",
    "C_F = 0\n",
    "\n",
    "D_CMF = {}\n",
    "D_CMF[25] = 0\n",
    "D_CMF[50] = 0\n",
    "D_CMF[75] = 0\n",
    "D_CMF[100] = 0\n",
    "D_CMF[101] = 0\n",
    "\n",
    "with open('churn.csv', newline='') as File:  \n",
    "    reader = csv.reader(File)\n",
    "    for line in reader:\n",
    "        if (line[18] != 'MonthlyCharges'):\n",
    "            if ( float(line[18]) <= 25):\n",
    "                D_CM[25]+=1\n",
    "                if (line[20] == 'Yes'):\n",
    "                    D_CMF[25]+=1\n",
    "            elif ( float(line[18]) <= 50):\n",
    "                D_CM[50]+=1\n",
    "                if (line[20] == 'Yes'):\n",
    "                    D_CMF[50]+=1\n",
    "            elif ( float(line[18]) <= 75):\n",
    "                D_CM[75]+=1\n",
    "                if (line[20] == 'Yes'):\n",
    "                    D_CMF[75]+=1\n",
    "            elif ( float(line[18]) <= 100):\n",
    "                D_CM[100]+=1\n",
    "                if (line[20] == 'Yes'):\n",
    "                    D_CMF[100]+=1\n",
    "            else:\n",
    "                D_CM[101]+=1\n",
    "                if (line[20] == 'Yes'):\n",
    "                    D_CMF[101]+=1\n",
    "\n",
    "            if (line[20] == 'Yes'):\n",
    "                C_F+=1"
   ]
  },
  {
   "cell_type": "markdown",
   "metadata": {},
   "source": [
    "### Trabajo de datos y Respuesta"
   ]
  },
  {
   "cell_type": "markdown",
   "metadata": {},
   "source": [
    "Probabilidad de fuga dado que el Cargo Mensual del cliente:"
   ]
  },
  {
   "cell_type": "code",
   "execution_count": 92,
   "metadata": {},
   "outputs": [
    {
     "data": {
      "image/png": "[encoded data removed]",
      "text/plain": [
       "<matplotlib.figure.Figure at 0x7f1389fb5240>"
      ]
     },
     "metadata": {},
     "output_type": "display_data"
    }
   ],
   "source": [
    "L1 = [D_CMF[25]/D_CM[25],D_CMF[50]/D_CM[50],D_CMF[75]/D_CM[75],D_CMF[100]/D_CM[100],D_CMF[101]/D_CM[101]]\n",
    "L2 = ['<= 25','>25 & <=50','>50 & <=75','>75 & <=100','>100']\n",
    "Grafico(L1,L2,'Fuga dado el Cargo Mensual','Probabilidad de Fuga','Cargo mensual')"
   ]
  },
  {
   "cell_type": "markdown",
   "metadata": {},
   "source": [
    "Se observa a simple vista que el cargo mensual es un buen predictor de la fuga, pues los clientes tienden a fugarse cuando su cargo mensual está por sobre las 25 unidades, ya que debajo de ese valor la probabilidad no supera el valor de  0.1 dando a entender que es muy poco probable de un cliente se fugue dentro de ese rango. No así el rango entre las 75 y 100 unidades, el cual presenta la mayor probabilidad de fuga, superando el valor de 0.35."
   ]
  },
  {
   "cell_type": "markdown",
   "metadata": {},
   "source": [
    "___\n",
    "Probabilidad del cargo mensual dado la fuga del cliente:"
   ]
  },
  {
   "cell_type": "code",
   "execution_count": 99,
   "metadata": {},
   "outputs": [
    {
     "data": {
      "image/png": "[encoded data removed]",
      "text/plain": [
       "<matplotlib.figure.Figure at 0x7f1389e95710>"
      ]
     },
     "metadata": {},
     "output_type": "display_data"
    }
   ],
   "source": [
    "L1 = [D_CMF[25]/C_F,D_CMF[50]/C_F,D_CMF[75]/C_F,D_CMF[100]/C_F,D_CMF[101]/C_F]\n",
    "L2 = ['<= 25','>25 & <=50','>50 & <=75','>75 & <=100','>100']\n",
    "Grafico(L1,L2,'Cargo Mensual dado la fuga','Probabilidad','Cargo mensual')"
   ]
  },
  {
   "cell_type": "markdown",
   "metadata": {},
   "source": [
    "Este gráfico se puede interpretar como la cantidad de unidades perdidas en el mes caundo un cliente se fuga, ya que es el cargo mensual que no será pagado. En relacipon a esto, es muy probable que el monto perdido sea entre 75 y 100 unidades, ya que la probabilidad deque esto suceda supera el 0.4. Además es preciso notar, que al fugarse un cliente es muy probable perder más de 25 unidades, ya que es en ese tramo ([>25 - >100]) en donde se concentran las probabilidades. Por lo tanto, es posible decir que la fuga es un buen predictor del cargo mensual, pero no tanto como lo es el cargo mesnual para la fuga."
   ]
  },
  {
   "cell_type": "markdown",
   "metadata": {},
   "source": [
    ">e) Utilizando criterios de probabilidad condicional, ¿es el cargo mensual un buen predictor de la estadia de un cliente? y ¿es la estadia del cliente un buen predictor del cargo mensual de este?"
   ]
  },
  {
   "cell_type": "markdown",
   "metadata": {},
   "source": [
    "**R.-** Para responder esta pregunta se analizarán los gráficos construidos respecto a 4 fltros de estadía y 5 filtros de cargo mensual."
   ]
  },
  {
   "cell_type": "markdown",
   "metadata": {},
   "source": [
    "## Desarrollo\n",
    "\n",
    "### Funciones a utilizar"
   ]
  },
  {
   "cell_type": "markdown",
   "metadata": {},
   "source": [
    "**Aumentar(list L, float x)**\n",
    "\n",
    "Función que recibe una lista L de 6 variables tipo int y suma 1 a uno de ellas respecto al valor de la variable x."
   ]
  },
  {
   "cell_type": "code",
   "execution_count": 136,
   "metadata": {
    "collapsed": true
   },
   "outputs": [],
   "source": [
    "def Aumentar(L,x):\n",
    "    L[0]+=1\n",
    "    if (x <= 25):\n",
    "        L[1]+=1\n",
    "    elif (x <= 50):\n",
    "        L[2]+=1\n",
    "    elif (x <= 75):\n",
    "        L[3]+=1\n",
    "    elif (x <= 100):\n",
    "        L[4]+=1\n",
    "    else:\n",
    "        L[5]+=1"
   ]
  },
  {
   "cell_type": "markdown",
   "metadata": {},
   "source": [
    "### Extracción de datos"
   ]
  },
  {
   "cell_type": "code",
   "execution_count": 137,
   "metadata": {
    "collapsed": true
   },
   "outputs": [],
   "source": [
    "D_E = {}\n",
    "D_E[6] = [0,0,0,0,0,0]\n",
    "D_E[12] = [0,0,0,0,0,0]\n",
    "D_E[24] = [0,0,0,0,0,0]\n",
    "D_E[25] = [0,0,0,0,0,0]\n",
    "\n",
    "\n",
    "with open('churn.csv', newline='') as File:  \n",
    "    reader = csv.reader(File)\n",
    "    for line in reader:\n",
    "        if (line[5] != 'tenure'):    \n",
    "            if (int(line[5]) <= 6):\n",
    "                Aumentar(D_E[6], float(line[18]))\n",
    "            elif(int(line[5]) <= 12):\n",
    "                Aumentar(D_E[12], float(line[18]))\n",
    "            elif(int(line[5]) <= 24):\n",
    "                Aumentar(D_E[24], float(line[18]))\n",
    "            else:\n",
    "                Aumentar(D_E[25], float(line[18]))\n",
    "    "
   ]
  },
  {
   "cell_type": "markdown",
   "metadata": {},
   "source": [
    "### Trabajo de datos y Respuestas"
   ]
  },
  {
   "cell_type": "markdown",
   "metadata": {},
   "source": [
    "Probablilidad de Estadía dado un Cargo Mensual menor o igual a 25"
   ]
  },
  {
   "cell_type": "code",
   "execution_count": 140,
   "metadata": {},
   "outputs": [
    {
     "data": {
      "image/png": "[encoded data removed]",
      "text/plain": [
       "<matplotlib.figure.Figure at 0x7f138afa2f60>"
      ]
     },
     "metadata": {},
     "output_type": "display_data"
    }
   ],
   "source": [
    "L1 = [D_E[6][1]/D_CM[25],D_E[12][1]/D_CM[25],D_E[24][1]/D_CM[25],D_E[25][1]/D_CM[25]]\n",
    "L2 = ['<= 6','>6 & <=12','>12 & <=24','>24']\n",
    "Grafico(L1,L2,'','Probabilidad','Cantidad de meses')"
   ]
  },
  {
   "cell_type": "markdown",
   "metadata": {},
   "source": [
    "Se observa que dado un bajo Cargo Mensual la probabilidad de estadía se muestra alta para un tiempo mayor a 24 meses superando los 0.4, y además se muestra una alta probabilidad de estadía de meses menor a 6, alcanzando un valor superior a los 0.25."
   ]
  },
  {
   "cell_type": "markdown",
   "metadata": {},
   "source": [
    "___\n",
    "Probablilidad de Estadía dado un Cargo Mensual mayor a 25 y menor o igual a 50:"
   ]
  },
  {
   "cell_type": "code",
   "execution_count": 141,
   "metadata": {},
   "outputs": [
    {
     "data": {
      "image/png": "[encoded data removed]",
      "text/plain": [
       "<matplotlib.figure.Figure at 0x7f1389f08860>"
      ]
     },
     "metadata": {},
     "output_type": "display_data"
    }
   ],
   "source": [
    "L1 = [D_E[6][2]/D_CM[50],D_E[12][2]/D_CM[50],D_E[24][2]/D_CM[50],D_E[25][2]/D_CM[50]]\n",
    "L2 = ['<= 6','>6 & <=12','>12 & <=24','>24']\n",
    "Grafico(L1,L2,'','Probabilidad','Cantidad de meses')"
   ]
  },
  {
   "cell_type": "markdown",
   "metadata": {},
   "source": [
    "Se observa que, al igual que el caso anterior, predomina la probabilidad de estadía mayor a 24 meses pero con un valor que apenas supera los 0.4, seguido de la estadía menor a 6 meses con un valor superior a 0.3, más alto que el caso anterior."
   ]
  },
  {
   "cell_type": "markdown",
   "metadata": {},
   "source": [
    "___\n",
    "Probablilidad de Estadía dado un Cargo Mensual mayor a 50 y menor o igual a 75:"
   ]
  },
  {
   "cell_type": "code",
   "execution_count": 142,
   "metadata": {},
   "outputs": [
    {
     "data": {
      "image/png": "[encoded data removed]",
      "text/plain": [
       "<matplotlib.figure.Figure at 0x7f1389e8af28>"
      ]
     },
     "metadata": {},
     "output_type": "display_data"
    }
   ],
   "source": [
    "L1 = [D_E[6][3]/D_CM[75],D_E[12][3]/D_CM[75],D_E[24][3]/D_CM[75],D_E[25][3]/D_CM[75]]\n",
    "L2 = ['<= 6','>6 & <=12','>12 & <=24','>24']\n",
    "Grafico(L1,L2,'','Probabilidad','Cantidad de meses')"
   ]
  },
  {
   "cell_type": "markdown",
   "metadata": {},
   "source": [
    "Observamos una distribución similar a los casos anteriores en donde predomina la estadía mayor a 24 meses con una probailidad superior a 0.4, seguida de la estadía menor a 6 meses, esta vez, con un valor por debajo de 0.3."
   ]
  },
  {
   "cell_type": "markdown",
   "metadata": {},
   "source": [
    "___\n",
    "Probablilidad de Estadía dado un Cargo Mensual mayor a 75 y menor o igual a 100:"
   ]
  },
  {
   "cell_type": "code",
   "execution_count": 143,
   "metadata": {},
   "outputs": [
    {
     "data": {
      "image/png": "[encoded data removed]",
      "text/plain": [
       "<matplotlib.figure.Figure at 0x7f1389e056a0>"
      ]
     },
     "metadata": {},
     "output_type": "display_data"
    }
   ],
   "source": [
    "L1 = [D_E[6][4]/D_CM[100],D_E[12][4]/D_CM[100],D_E[24][4]/D_CM[100],D_E[25][4]/D_CM[100]]\n",
    "L2 = ['<= 6','>6 & <=12','>12 & <=24','>24']\n",
    "Grafico(L1,L2,'','Probabilidad','Cantidad de meses')"
   ]
  },
  {
   "cell_type": "markdown",
   "metadata": {},
   "source": [
    "Esta vez se observa una diferencia más amplia que en los casos anteriores, ya que la probabilidad de superar los 24 meses es mayor a 0.5, lo que indica que hay bajas probabilidades que la estadía sea menor a 2 años. A pesar de esta diferencia, se siguie viendo una distribución similar a los casos anteriores."
   ]
  },
  {
   "cell_type": "markdown",
   "metadata": {},
   "source": [
    "___\n",
    "Probablilidad de Estadía dado un Cargo Mensual mayor a 100:"
   ]
  },
  {
   "cell_type": "code",
   "execution_count": 144,
   "metadata": {},
   "outputs": [
    {
     "data": {
      "image/png": "[encoded data removed]",
      "text/plain": [
       "<matplotlib.figure.Figure at 0x7f1389e66d30>"
      ]
     },
     "metadata": {},
     "output_type": "display_data"
    }
   ],
   "source": [
    "L1 = [D_E[6][5]/D_CM[101],D_E[12][5]/D_CM[101],D_E[24][5]/D_CM[101],D_E[25][5]/D_CM[101]]\n",
    "L2 = ['<= 6','>6 & <=12','>12 & <=24','>24']\n",
    "Grafico(L1,L2,'','Probabilidad','Cantidad de meses')"
   ]
  },
  {
   "cell_type": "markdown",
   "metadata": {},
   "source": [
    "Se observa una predominancia total de la estadía mayor a 24 meses con una probabilidad sobre 0,8, convirtiendose en una buena predicción de la estadía ya que es altamente probable que al tener un cargo mensual superior a los 100 se obtenga una estadía mayor a 24 meses.\n",
    "\n",
    "En base a lo observado en los gráficos, el cargo mensual es un buen predictor sólo para cargos mayores a 100, ya que es el úni qe muestra una clara tendencía a un rango en específico. En cuanto alos otros casos de Cargo Mensual esyos no nos ayudan mucho, ya que todos tiienen una distribución similar y variable, por tanto, no se consideran buenos predictores."
   ]
  },
  {
   "cell_type": "markdown",
   "metadata": {},
   "source": [
    "___"
   ]
  },
  {
   "cell_type": "markdown",
   "metadata": {},
   "source": [
    "Probabilidad de Cargo Mensual dada una Estadía menor o igual a 6 meses:"
   ]
  },
  {
   "cell_type": "code",
   "execution_count": 145,
   "metadata": {},
   "outputs": [
    {
     "data": {
      "image/png": "[encoded data removed]",
      "text/plain": [
       "<matplotlib.figure.Figure at 0x7f138b4c1630>"
      ]
     },
     "metadata": {},
     "output_type": "display_data"
    }
   ],
   "source": [
    "L1 = [D_E[6][1]/D_E[6][0],D_E[6][2]/D_E[6][0],D_E[6][3]/D_E[6][0],D_E[6][4]/D_E[6][0],D_E[6][5]/D_E[6][0]]\n",
    "L2 = ['<= 25','>25 & <=50','>50 & <=75','>75 & <=100','>100']\n",
    "Grafico(L1,L2,'','Probabilidad','Cargo Mensual')"
   ]
  },
  {
   "cell_type": "markdown",
   "metadata": {},
   "source": [
    "Se observa una gran probabilidad en los rangos inferiores al Cargo Mensual de 100, indicando que para clientes que llevan a lo más 6 meses hay baja probabiñidad que estos tengan un Cargo mensual superior a 100."
   ]
  },
  {
   "cell_type": "markdown",
   "metadata": {},
   "source": [
    "___\n",
    "Probabilidad de Cargo Mensual dado una estadía mayor a 6 meses y menor a un año:"
   ]
  },
  {
   "cell_type": "code",
   "execution_count": 146,
   "metadata": {},
   "outputs": [
    {
     "data": {
      "image/png": "[encoded data removed]",
      "text/plain": [
       "<matplotlib.figure.Figure at 0x7f138b4a3668>"
      ]
     },
     "metadata": {},
     "output_type": "display_data"
    }
   ],
   "source": [
    "L1 = [D_E[12][1]/D_E[12][0],D_E[12][2]/D_E[12][0],D_E[12][3]/D_E[12][0],D_E[12][4]/D_E[12][0],D_E[12][5]/D_E[12][0]]\n",
    "L2 = ['<= 25','>25 & <=50','>50 & <=75','>75 & <=100','>100']\n",
    "Grafico(L1,L2,'','Probabilidad','Cargo Mensual')"
   ]
  },
  {
   "cell_type": "markdown",
   "metadata": {},
   "source": [
    "Al igual que el caso anterior sólo es posible extraer que dado un rango de tiempo entre 6 y 12 meses de estadía hay pocas probablilidades de que el Cargo Mensual sea mayor a 100."
   ]
  },
  {
   "cell_type": "markdown",
   "metadata": {},
   "source": [
    "___\n",
    "Probabilidad de Cargo Mensual dado una estadía mayor a un año y menor a dos años:"
   ]
  },
  {
   "cell_type": "code",
   "execution_count": 147,
   "metadata": {},
   "outputs": [
    {
     "data": {
      "image/png": "[encoded data removed]",
      "text/plain": [
       "<matplotlib.figure.Figure at 0x7f138b3dbe48>"
      ]
     },
     "metadata": {},
     "output_type": "display_data"
    }
   ],
   "source": [
    "L1 = [D_E[24][1]/D_E[24][0],D_E[24][2]/D_E[24][0],D_E[24][3]/D_E[24][0],D_E[24][4]/D_E[24][0],D_E[24][5]/D_E[24][0]]\n",
    "L2 = ['<= 25','>25 & <=50','>50 & <=75','>75 & <=100','>100']\n",
    "Grafico(L1,L2,'','Probabilidad','Cargo Mensual')"
   ]
  },
  {
   "cell_type": "markdown",
   "metadata": {},
   "source": [
    "Se observa, en compraración a los gráficos anteriores, una disminución en la probabilidad de que el Cargo Mensual este entre los 25 y 50, admás de un leve aumento en la probabilidad de Cargos Mensuales mayores a 100. "
   ]
  },
  {
   "cell_type": "markdown",
   "metadata": {},
   "source": [
    "___\n",
    "Probabilidad de Cargo Mensual dado una estadía mayor a dos años:"
   ]
  },
  {
   "cell_type": "code",
   "execution_count": 148,
   "metadata": {},
   "outputs": [
    {
     "data": {
      "image/png": "[encoded data removed]",
      "text/plain": [
       "<matplotlib.figure.Figure at 0x7f138af98780>"
      ]
     },
     "metadata": {},
     "output_type": "display_data"
    }
   ],
   "source": [
    "L1 = [D_E[25][1]/D_E[25][0],D_E[25][2]/D_E[25][0],D_E[25][3]/D_E[25][0],D_E[25][4]/D_E[25][0],D_E[25][5]/D_E[25][0]]\n",
    "L2 = ['<= 25','>25 & <=50','>50 & <=75','>75 & <=100','>100']\n",
    "Grafico(L1,L2,'','Probabilidad','Cargo Mensual')"
   ]
  },
  {
   "cell_type": "markdown",
   "metadata": {},
   "source": [
    "Se observa una gran variación entre las probabilidades de cada rango de Cargo Mensual, lo que imposibilita una predicción acertada del valor que tomará dado una estadía mayor a los 2 años.\n",
    "\n",
    "En Resumen, según la clasificación utilizada, la estadía no es un buen predictor del cargo mensual, pues en ningún intervalo se puede predecir con una probabilidad mayor a 0.4 el cargo mensual dada una estadía. Además las probabilidades en todos los casos varían en pequeñas cantidades, indicando que todas las opciones tiene altas probabilidades de ocurrir, dificultando así la predicción."
   ]
  },
  {
   "cell_type": "markdown",
   "metadata": {},
   "source": [
    "# 2. Máquina de Rube Goldberg"
   ]
  },
  {
   "cell_type": "markdown",
   "metadata": {},
   "source": [
    ">a) Usted quiere subir su máquina de Rube Goldberg a Youtube™, estime cuántas veces (en promedio) tendrá que poner en marcha su máquina hasta que resulte por primera vez en video. A su vez, haga un gráfico mostrando la probabilidad de no tener éxito en función del número de puestas en marcha de la máquina y comente."
   ]
  },
  {
   "cell_type": "markdown",
   "metadata": {},
   "source": [
    "## Desarrollo"
   ]
  },
  {
   "cell_type": "markdown",
   "metadata": {},
   "source": [
    "### Funciones a utilizar"
   ]
  },
  {
   "cell_type": "markdown",
   "metadata": {},
   "source": [
    "**nCr(int n, int r)**\n",
    "\n",
    "Función que retorna la combinatoria correspondiente a n sobre r."
   ]
  },
  {
   "cell_type": "code",
   "execution_count": null,
   "metadata": {
    "collapsed": true
   },
   "outputs": [],
   "source": [
    "def nCr(n,r):\n",
    "    f = math.factorial\n",
    "    return f(n) // f(r) // f(n-r)"
   ]
  },
  {
   "cell_type": "markdown",
   "metadata": {},
   "source": [
    "### Trabajo de datos y Respuestas"
   ]
  },
  {
   "cell_type": "code",
   "execution_count": 153,
   "metadata": {
    "collapsed": true
   },
   "outputs": [],
   "source": [
    "import random \n",
    "import math\n",
    "\n",
    "\n",
    "probC = 2.0/5\n",
    "probL = 0.6*(1-probC)\n",
    "probA = 0.8*probL\n",
    "probI = (6.0/9)*probA\n",
    "probE = 0.3*probI\n",
    "\n",
    "\n",
    "i=0\n",
    "ct=0\n",
    "n= 100\n",
    "while(i<100000):  \n",
    "    cj=0\n",
    "    j=0\n",
    "    while(j<n):\n",
    "        r = random.random()*n\n",
    "        if (r<=probE*n):\n",
    "            cj+=j\n",
    "            break\n",
    "        j+=1\n",
    "    ct+=cj\n",
    "    i+=1"
   ]
  },
  {
   "cell_type": "markdown",
   "metadata": {},
   "source": [
    "La cantidad mínima de intentos para que salga correcto es:"
   ]
  },
  {
   "cell_type": "code",
   "execution_count": 154,
   "metadata": {},
   "outputs": [
    {
     "name": "stdout",
     "output_type": "stream",
     "text": [
      "16.01318\n"
     ]
    }
   ],
   "source": [
    "print(ct/100000.0)"
   ]
  },
  {
   "cell_type": "markdown",
   "metadata": {},
   "source": [
    "El gráfico de Probabilidad de falla en base a la cantidad de intentos es:"
   ]
  },
  {
   "cell_type": "code",
   "execution_count": 281,
   "metadata": {},
   "outputs": [
    {
     "data": {
      "image/png": "[encoded data removed]",
      "text/plain": [
       "<matplotlib.figure.Figure at 0x7f138af2cf28>"
      ]
     },
     "metadata": {},
     "output_type": "display_data"
    }
   ],
   "source": [
    "def media(n):\n",
    "    i=0\n",
    "    ct=0\n",
    "\n",
    "    while(i<1000):  \n",
    "        cj=0\n",
    "        j=0\n",
    "        while(j<n):\n",
    "            r = random.random()*n\n",
    "            if (r>=probE*n):\n",
    "                cj+=j\n",
    "            j+=1\n",
    "\n",
    "        ct+=cj\n",
    "        i+=1\n",
    "    return ct/(500*n)\n",
    "\n",
    "plt.xlabel(\"Intentos\")\n",
    "plt.ylabel(\"Probabilidad de falla\")\n",
    "plt.axis([0,100, 0, 1])\n",
    "i=0\n",
    "n=100\n",
    "while(i<n):\n",
    "    i+=1\n",
    "    plt.plot(i, media(i)/i, 'bo')\n",
    "    \n",
    "plt.show()"
   ]
  },
  {
   "cell_type": "markdown",
   "metadata": {},
   "source": [
    "Se observa en el gráfico, que a medida que aumenta la cantidad de intentos tambien aumenta la Probabilidad de falla. Pero esta probabilidad tiende a una probabilidad constante de 0.94, es decir, que para cantidades altas de intentos, la probabilidad de falla será aproximadamente un 94%."
   ]
  },
  {
   "cell_type": "markdown",
   "metadata": {},
   "source": [
    "> b) Si usted cuenta con 1000 bolitas, estime tanto téorica como empíricamente cuántas bolitas fallan en cada estapa. Compare sus resultados obtenidos."
   ]
  },
  {
   "cell_type": "markdown",
   "metadata": {},
   "source": [
    "## Téoricamente"
   ]
  },
  {
   "cell_type": "markdown",
   "metadata": {},
   "source": [
    "Primera etapa:"
   ]
  },
  {
   "cell_type": "code",
   "execution_count": 171,
   "metadata": {},
   "outputs": [
    {
     "name": "stdout",
     "output_type": "stream",
     "text": [
      "400.0\n"
     ]
    }
   ],
   "source": [
    "probC = 2.0/5\n",
    "pobl = 1000\n",
    "print(probC*pobl)"
   ]
  },
  {
   "cell_type": "markdown",
   "metadata": {},
   "source": [
    "___\n",
    "Segunda etapa:"
   ]
  },
  {
   "cell_type": "code",
   "execution_count": 172,
   "metadata": {},
   "outputs": [
    {
     "name": "stdout",
     "output_type": "stream",
     "text": [
      "240.0\n"
     ]
    }
   ],
   "source": [
    "probL = 0.6\n",
    "pobl = pobl-probC*pobl\n",
    "print((1-probL)*pobl)"
   ]
  },
  {
   "cell_type": "markdown",
   "metadata": {},
   "source": [
    "___\n",
    "Tercera etapa:"
   ]
  },
  {
   "cell_type": "code",
   "execution_count": 173,
   "metadata": {},
   "outputs": [
    {
     "name": "stdout",
     "output_type": "stream",
     "text": [
      "71.99999999999999\n"
     ]
    }
   ],
   "source": [
    "probA = 0.8\n",
    "pobl = pobl-(1-probL)*pobl\n",
    "print((1-probA)*pobl)"
   ]
  },
  {
   "cell_type": "markdown",
   "metadata": {},
   "source": [
    "___\n",
    "Cuarta etapa:"
   ]
  },
  {
   "cell_type": "code",
   "execution_count": 174,
   "metadata": {},
   "outputs": [
    {
     "name": "stdout",
     "output_type": "stream",
     "text": [
      "96.00000000000001\n"
     ]
    }
   ],
   "source": [
    "probI = (6.0/9)\n",
    "pobl = pobl-(1-probA)*pobl\n",
    "print((1-probI)*pobl)"
   ]
  },
  {
   "cell_type": "markdown",
   "metadata": {},
   "source": [
    "___\n",
    "Quinta etapa:"
   ]
  },
  {
   "cell_type": "code",
   "execution_count": 176,
   "metadata": {},
   "outputs": [
    {
     "name": "stdout",
     "output_type": "stream",
     "text": [
      "134.39999999999998\n"
     ]
    }
   ],
   "source": [
    "probE = 0.3\n",
    "pobl = pobl-(1-probI)*pobl\n",
    "print((1-probE)*pobl)"
   ]
  },
  {
   "cell_type": "markdown",
   "metadata": {},
   "source": [
    "## Empíricamente"
   ]
  },
  {
   "cell_type": "markdown",
   "metadata": {},
   "source": [
    "### Funciones a utilizar"
   ]
  },
  {
   "cell_type": "markdown",
   "metadata": {},
   "source": [
    "**aleatorio(float p, int n)**\n",
    "\n",
    "Función que recibe una probabilidad p y una cantidad de población n, y en base a la probabilidad reduce la población."
   ]
  },
  {
   "cell_type": "code",
   "execution_count": 248,
   "metadata": {
    "collapsed": true
   },
   "outputs": [],
   "source": [
    "def aleatorio(p, n):\n",
    "    i = 0\n",
    "    lista = []\n",
    "    while (i < 100):\n",
    "        lista.append(0)\n",
    "        i += 1\n",
    "        \n",
    "    i = 0\n",
    "    while (i < p*100):\n",
    "        lista[i] = 1\n",
    "        i += 1\n",
    "        \n",
    "    i = 0\n",
    "    total = 0\n",
    "    while (i < n):\n",
    "        x = random.choice(lista)\n",
    "        total += x\n",
    "        i+=1\n",
    "    \n",
    "    return total\n"
   ]
  },
  {
   "cell_type": "markdown",
   "metadata": {},
   "source": [
    "Primera etapa:"
   ]
  },
  {
   "cell_type": "code",
   "execution_count": 251,
   "metadata": {},
   "outputs": [
    {
     "name": "stdout",
     "output_type": "stream",
     "text": [
      "398\n"
     ]
    }
   ],
   "source": [
    "pobl = 1000\n",
    "print(aleatorio(probC, pobl))"
   ]
  },
  {
   "cell_type": "markdown",
   "metadata": {},
   "source": [
    "___\n",
    "Segunda etapa:"
   ]
  },
  {
   "cell_type": "code",
   "execution_count": 252,
   "metadata": {},
   "outputs": [
    {
     "name": "stdout",
     "output_type": "stream",
     "text": [
      "232\n"
     ]
    }
   ],
   "source": [
    "pobl = pobl-probC*pobl\n",
    "print(aleatorio(1-probL, pobl))"
   ]
  },
  {
   "cell_type": "markdown",
   "metadata": {},
   "source": [
    "___\n",
    "Tercera etapa:"
   ]
  },
  {
   "cell_type": "code",
   "execution_count": 253,
   "metadata": {},
   "outputs": [
    {
     "name": "stdout",
     "output_type": "stream",
     "text": [
      "73\n"
     ]
    }
   ],
   "source": [
    "pobl = pobl-(1-probL)*pobl\n",
    "print(aleatorio(1-probA, pobl))"
   ]
  },
  {
   "cell_type": "markdown",
   "metadata": {},
   "source": [
    "___\n",
    "Cuarta etapa:"
   ]
  },
  {
   "cell_type": "code",
   "execution_count": 254,
   "metadata": {},
   "outputs": [
    {
     "name": "stdout",
     "output_type": "stream",
     "text": [
      "102\n"
     ]
    }
   ],
   "source": [
    "pobl = pobl-(1-probA)*pobl\n",
    "print(aleatorio(1-probI, pobl))"
   ]
  },
  {
   "cell_type": "markdown",
   "metadata": {},
   "source": [
    "___\n",
    "Quinta etapa:"
   ]
  },
  {
   "cell_type": "code",
   "execution_count": 255,
   "metadata": {},
   "outputs": [
    {
     "name": "stdout",
     "output_type": "stream",
     "text": [
      "141\n"
     ]
    }
   ],
   "source": [
    "pobl = pobl-(1-probI)*pobl\n",
    "print(aleatorio(1-probE, pobl))"
   ]
  },
  {
   "cell_type": "markdown",
   "metadata": {},
   "source": [
    "> c) Determine la función de probabilidad que rige este fenómeno según todos los estados posibles de la bolita"
   ]
  },
  {
   "cell_type": "markdown",
   "metadata": {},
   "source": [
    "**R.-** Sea X la variable aleatoria que representa la etapa de la máquina. La función de probabilidad, dado un Recorrido de X igual a {1,2,3,4,5} es:"
   ]
  },
  {
   "cell_type": "code",
   "execution_count": 256,
   "metadata": {
    "collapsed": true
   },
   "outputs": [],
   "source": [
    "def funp(x):\n",
    "    pobl = 1\n",
    "    probC = 2.0/5.0\n",
    "    probL = 0.6\n",
    "    probA = 0.8\n",
    "    probI = (6.0/9)\n",
    "    probE = 0.3\n",
    "    \n",
    "\n",
    "    if (x == 1):\n",
    "        return probC*pobl\n",
    "    pobl = pobl-probC*pobl\n",
    "    if x == 2:\n",
    "        return (1-probL)*pobl\n",
    "    \n",
    "    pobl = pobl-(1-probL)*pobl\n",
    "    if x == 3:\n",
    "        return (1-probA)*pobl\n",
    "    \n",
    "    pobl = pobl-(1-probA)*pobl\n",
    "    if x == 4:\n",
    "        return (1-probI)*pobl\n",
    "    \n",
    "    pobl = pobl-(1-probI)*pobl\n",
    "    if x == 5:\n",
    "        return (1-probE)*pobl"
   ]
  },
  {
   "cell_type": "markdown",
   "metadata": {},
   "source": [
    "P(X=1) = "
   ]
  },
  {
   "cell_type": "code",
   "execution_count": 257,
   "metadata": {},
   "outputs": [
    {
     "name": "stdout",
     "output_type": "stream",
     "text": [
      "0.4\n"
     ]
    }
   ],
   "source": [
    "print(funp(1))"
   ]
  },
  {
   "cell_type": "markdown",
   "metadata": {},
   "source": [
    "P(X=2) ="
   ]
  },
  {
   "cell_type": "code",
   "execution_count": 258,
   "metadata": {},
   "outputs": [
    {
     "name": "stdout",
     "output_type": "stream",
     "text": [
      "0.24\n"
     ]
    }
   ],
   "source": [
    "print(funp(2))"
   ]
  },
  {
   "cell_type": "markdown",
   "metadata": {},
   "source": [
    "P(X=3) ="
   ]
  },
  {
   "cell_type": "code",
   "execution_count": 259,
   "metadata": {},
   "outputs": [
    {
     "name": "stdout",
     "output_type": "stream",
     "text": [
      "0.07199999999999998\n"
     ]
    }
   ],
   "source": [
    "print(funp(3))"
   ]
  },
  {
   "cell_type": "markdown",
   "metadata": {},
   "source": [
    "P(X=4) ="
   ]
  },
  {
   "cell_type": "code",
   "execution_count": 260,
   "metadata": {},
   "outputs": [
    {
     "name": "stdout",
     "output_type": "stream",
     "text": [
      "0.09600000000000002\n"
     ]
    }
   ],
   "source": [
    "print(funp(4))"
   ]
  },
  {
   "cell_type": "markdown",
   "metadata": {},
   "source": [
    "P(X=5) ="
   ]
  },
  {
   "cell_type": "code",
   "execution_count": 261,
   "metadata": {},
   "outputs": [
    {
     "name": "stdout",
     "output_type": "stream",
     "text": [
      "0.1344\n"
     ]
    }
   ],
   "source": [
    "print(funp(5))"
   ]
  },
  {
   "cell_type": "markdown",
   "metadata": {},
   "source": [
    "Se presenta un gráfico de la función descrita"
   ]
  },
  {
   "cell_type": "code",
   "execution_count": 262,
   "metadata": {},
   "outputs": [
    {
     "data": {
      "image/png": "[encoded data removed]",
      "text/plain": [
       "<matplotlib.figure.Figure at 0x7f138b50cba8>"
      ]
     },
     "metadata": {},
     "output_type": "display_data"
    }
   ],
   "source": [
    "plt.plot(1, funp(1), 'bo')\n",
    "plt.plot(2, funp(2), 'bo')\n",
    "plt.plot(3, funp(3), 'bo')\n",
    "plt.plot(4, funp(4), 'bo')\n",
    "plt.plot(5, funp(5), 'bo')\n",
    "plt.ylabel('Probabilidad')\n",
    "plt.xlabel('X')\n",
    "plt.show()"
   ]
  },
  {
   "cell_type": "markdown",
   "metadata": {},
   "source": [
    ">d) Genere 1000 valores aleatorios que sigan la función de probabilidad que encontró en c), haga un histograma y compare con lo obtenido en b)"
   ]
  },
  {
   "cell_type": "markdown",
   "metadata": {},
   "source": [
    "## Desarrollo\n",
    "\n",
    "### Funciones a utilizar"
   ]
  },
  {
   "cell_type": "markdown",
   "metadata": {},
   "source": [
    "**Histograma(dict D, int cant, int x_mx, int x_mn, int y_mx, str title, str x_name, str y_name)**\n",
    "\n",
    "_Función que construye un Histograma a partir de los datos entregados en el diccionario **D**. _\n",
    "_además recibe los limites de cada eje _(**x_mn**, **x_mx** y **y_mx**).  _El titulo del Histograma viene dado por el str title, y \n",
    "el nombre de cada eje viene dado por los str_  **x_name**  _para x, e _ **y_name para** _y._ "
   ]
  },
  {
   "cell_type": "code",
   "execution_count": 266,
   "metadata": {
    "collapsed": true
   },
   "outputs": [],
   "source": [
    "def Histograma(D,cant,x_mx,x_mn,y_mx,title,x_name,y_name):\n",
    "    x=[]\n",
    "    y=[]\n",
    "\n",
    "    for i in D.items():\n",
    "        x.append(int(i[0]))\n",
    "        y.append(i[1])\n",
    "\n",
    "    valor_max = max(x)\n",
    "    valor_min = min(x)\n",
    "\n",
    "\n",
    "    fr_max = max(y)\n",
    "    fr_min = min(y)\n",
    "\n",
    "    rango = valor_max - valor_min\n",
    "\n",
    "    k = int(np.log2(len(D)))\n",
    "\n",
    "    Amplitud = rango/k \n",
    "\n",
    "    plt.hist(x,cant,(valor_min, valor_max),False,y)\n",
    "\n",
    "    plt.axis([x_mn, x_mx, 0,y_mx])\n",
    "    plt.title(title)\n",
    "    plt.ylabel(y_name)\n",
    "    plt.xlabel(x_name)\n",
    "\n",
    "    plt.show()"
   ]
  },
  {
   "cell_type": "markdown",
   "metadata": {},
   "source": [
    "### Creación de datos"
   ]
  },
  {
   "cell_type": "code",
   "execution_count": 271,
   "metadata": {
    "collapsed": true
   },
   "outputs": [],
   "source": [
    "v1 = 0\n",
    "v2 = 0\n",
    "v3 = 0\n",
    "v4 = 0\n",
    "v5 = 0\n",
    "vt = 1000\n",
    "n = vt\n",
    "while(vt!=0):\n",
    "    vt-=1\n",
    "    a=aleatorio(funp(1), 1)\n",
    "    if(a==0):\n",
    "        a=aleatorio(funp(2), 1)\n",
    "    else:\n",
    "        v1+=1\n",
    "        continue\n",
    "    if(a==0):\n",
    "        a=aleatorio(funp(3), 1)\n",
    "    else:\n",
    "        v2+=1\n",
    "        continue\n",
    "    if(a==0):\n",
    "        a=aleatorio(funp(4), 1)\n",
    "    else:\n",
    "        v3+=1\n",
    "        continue\n",
    "    if(a==0):\n",
    "        a=aleatorio(funp(5), 1)\n",
    "    else:\n",
    "        v4+=1\n",
    "        continue\n",
    "    if(a==0):\n",
    "        a=0\n",
    "    else:\n",
    "        v5+=1\n",
    "        continue\n",
    "\n",
    "data = [(0 ,v1), (1, v2), (2, v3), (3,v4), (4,v5), (5,0)]\n",
    "data = dict(data)"
   ]
  },
  {
   "cell_type": "markdown",
   "metadata": {},
   "source": [
    "El Histograma resultante es:"
   ]
  },
  {
   "cell_type": "code",
   "execution_count": 272,
   "metadata": {},
   "outputs": [
    {
     "data": {
      "image/png": "[encoded data removed]",
      "text/plain": [
       "<matplotlib.figure.Figure at 0x7f138a1fa668>"
      ]
     },
     "metadata": {},
     "output_type": "display_data"
    }
   ],
   "source": [
    "Histograma(data,5,5,0,n,'','','')"
   ]
  },
  {
   "cell_type": "markdown",
   "metadata": {},
   "source": [
    "En comparación a lo encontrado en el inciso b, los resultados son, a simple vista, distintos. Ya que las cantidades difieren considerablemente. Aun Así, la tendencía de los datos se mantiene, esto quiere decir, que la probabilidad tiende a lo mostrado en ambas respuestas."
   ]
  },
  {
   "cell_type": "markdown",
   "metadata": {},
   "source": [
    "# 3. Perritos Enfermos"
   ]
  },
  {
   "cell_type": "markdown",
   "metadata": {},
   "source": [
    ">a) ¿Es posible determinar **teóricamente** un $K$ tal que la cantidad de veces que se realiza la prueba sea la menor posible? De ser así, encuentre dicho K. ¿Qué distribución es comparable a este fenómeno?"
   ]
  },
  {
   "cell_type": "markdown",
   "metadata": {},
   "source": [
    "La distribución que mejor representa el fenómeno descrito es la hipegeométrica, ya que se considera un población total de 500 perros de los cuales hay $N$ infectados, se toma una muestra de la población de $K$ perros y se desea saber cuál es la probabilidad de cuantos perros de ese grupo están infectados.\n",
    "\n",
    "Para ejemplificar el fenómeno se construye un gráfico interactivo de la funció hipergeométrica, en el cual se puede variar la población total $M$ entre 0 y 500, la cantidad de perros infectados de 0 a 500, y la cantidad de perros que se toman para la muestra. El gráfico indica cuál es la probabilidad de que haya entre 0 y N infectados en la muestra."
   ]
  },
  {
   "cell_type": "code",
   "execution_count": 352,
   "metadata": {},
   "outputs": [
    {
     "data": {
      "application/vnd.jupyter.widget-view+json": {
       "model_id": "5c52e68057ed4d91a99c4d2f8d57fd9d",
       "version_major": 2,
       "version_minor": 0
      },
      "text/plain": [
       "A Jupyter Widget"
      ]
     },
     "metadata": {},
     "output_type": "display_data"
    },
    {
     "data": {
      "text/plain": [
       "<function __main__.plot_serie>"
      ]
     },
     "execution_count": 352,
     "metadata": {},
     "output_type": "execute_result"
    }
   ],
   "source": [
    "from ipywidgets import interact \n",
    "import scipy.stats as stats \n",
    "def plot_serie(K, n, M):\n",
    "    hipergeometrica = stats.hypergeom(M, n, K) # Distribución\n",
    "    x = np.arange(0, n+1)\n",
    "    fmp = hipergeometrica.pmf(x) # Función de Masa de Probabilidad\n",
    "  \n",
    "    plt.vlines(x, 0, fmp, colors='b', lw=5, alpha=0.5)\n",
    "    plt.axis([0, n, 0, 1])\n",
    "    plt.title('Distribución Hipergeométrica')\n",
    "    plt.ylabel('probabilidad')\n",
    "    plt.xlabel('Cantidad de infectados')\n",
    "    plt.plot(x, fmp, '--') \n",
    "    plt.show()\n",
    " \n",
    "interact(plot_serie, K=(0,500), n=(0,500),M=(0,500))"
   ]
  },
  {
   "cell_type": "markdown",
   "metadata": {},
   "source": [
    ">b) Encuentre **empíricamente** un valor de $K$ que minimice la cantidad de veces que se realiza la prueba y compare con el obtenido en a)"
   ]
  },
  {
   "cell_type": "markdown",
   "metadata": {},
   "source": [
    "**R.-** Para desarrollar empíricamente se hará una simulación a través de un a lista, la cual representara con ceros a los perros sanos, y con unos a los perros enfermos."
   ]
  },
  {
   "cell_type": "markdown",
   "metadata": {},
   "source": [
    "## Desarrollo\n",
    "\n",
    "### Funciones a utilizar"
   ]
  },
  {
   "cell_type": "markdown",
   "metadata": {},
   "source": [
    "**aleatorio2(int e, int t)**\n",
    "\n",
    "Función que genera una lista de t ceros, y luego cambia, en posiciones aleatorias, e ceros por e unos. Al final retorna la lista resultante."
   ]
  },
  {
   "cell_type": "code",
   "execution_count": 291,
   "metadata": {
    "collapsed": true
   },
   "outputs": [],
   "source": [
    "def aleatorio2(e,t):\n",
    "    i = 0\n",
    "    lista = []\n",
    "    while (i < t):\n",
    "        lista.append(0)\n",
    "        i += 1\n",
    "        \n",
    "    i = 0\n",
    "    while (i < e):\n",
    "        p=np.random.randint(0,t)\n",
    "        x=np.random.randint(0,2)\n",
    "        if(lista[p]!=1 and x==1):\n",
    "            lista[p]=x\n",
    "            i+=1\n",
    "    return lista"
   ]
  },
  {
   "cell_type": "markdown",
   "metadata": {},
   "source": [
    "Se guarda en una lista todos los $K$ posibles que dividen 500 de manera exacta:"
   ]
  },
  {
   "cell_type": "code",
   "execution_count": 292,
   "metadata": {
    "collapsed": true
   },
   "outputs": [],
   "source": [
    "K=[]\n",
    "for j in range(501):\n",
    "    if(j!=0 and 500%j==0 ):\n",
    "        K.append(j)"
   ]
  },
  {
   "cell_type": "markdown",
   "metadata": {},
   "source": [
    "Se crea la lista con la que se trabajará:"
   ]
  },
  {
   "cell_type": "code",
   "execution_count": 339,
   "metadata": {
    "collapsed": true
   },
   "outputs": [],
   "source": [
    "t = aleatorio2(8,500)"
   ]
  },
  {
   "cell_type": "markdown",
   "metadata": {},
   "source": [
    "Evaluamos la cantidad de pruebas totales por cada $K$ en la lista de divisores de 500. Guardamos el el $K$ que genera la mínima cantidad de pruebas."
   ]
  },
  {
   "cell_type": "code",
   "execution_count": 340,
   "metadata": {
    "collapsed": true
   },
   "outputs": [],
   "source": [
    "cpmin=float('inf')\n",
    "Kmin=0\n",
    "for i in K:\n",
    "    g=int(500/i)\n",
    "    cp=0\n",
    "    for j in range(g):\n",
    "        tK=t[i*j:i*(j+1)]\n",
    "        if(tK.count(1)>=1):\n",
    "            cp+=i\n",
    "    cp+=g\n",
    "    if(cp<cpmin):\n",
    "        cpmin=cp\n",
    "        Kmin=i"
   ]
  },
  {
   "cell_type": "markdown",
   "metadata": {},
   "source": [
    "El $K$ que genera la mínima antida de pruebas es:"
   ]
  },
  {
   "cell_type": "code",
   "execution_count": 341,
   "metadata": {},
   "outputs": [
    {
     "name": "stdout",
     "output_type": "stream",
     "text": [
      "10\n"
     ]
    }
   ],
   "source": [
    "print(Kmin)"
   ]
  },
  {
   "cell_type": "markdown",
   "metadata": {},
   "source": [
    "Con un total de pruebas (en este caso particular) de:"
   ]
  },
  {
   "cell_type": "code",
   "execution_count": 342,
   "metadata": {},
   "outputs": [
    {
     "name": "stdout",
     "output_type": "stream",
     "text": [
      "130\n"
     ]
    }
   ],
   "source": [
    "print(cpmin)"
   ]
  },
  {
   "cell_type": "markdown",
   "metadata": {},
   "source": [
    ">c) Ahora usted conoce la cantidad de perros infectados, realice el mismo experimento que en b) y compare sus resultados. ¿A qué se debe esta diferencia? "
   ]
  },
  {
   "cell_type": "markdown",
   "metadata": {},
   "source": [
    "**R.-** Al conocer la cantidad de perros infectados la prueba finalizará automaticamente al encontrarlos a todos. Es decir, cuando se encuentren los 8 perros infectados la prueba dejará de realizarse."
   ]
  },
  {
   "cell_type": "markdown",
   "metadata": {},
   "source": [
    "## Desarrollo"
   ]
  },
  {
   "cell_type": "code",
   "execution_count": 343,
   "metadata": {
    "collapsed": true
   },
   "outputs": [],
   "source": [
    "cpmin=float('inf')\n",
    "Kmin=0\n",
    "for i in K:\n",
    "    g=int(500/i)\n",
    "    cp=0\n",
    "    ce=0\n",
    "    for j in range(g):\n",
    "        if(ce<8):\n",
    "            tK=t[i*j:i*(j+1)]\n",
    "            if(tK.count(1)>=1):\n",
    "                cp+=i\n",
    "                ce+=tK.count(1)\n",
    "            cp+=1\n",
    "    if(cp<cpmin):\n",
    "        cpmin=cp\n",
    "        Kmin=i"
   ]
  },
  {
   "cell_type": "markdown",
   "metadata": {},
   "source": [
    "El $K$ que minimiza las pruebas es:"
   ]
  },
  {
   "cell_type": "code",
   "execution_count": 344,
   "metadata": {},
   "outputs": [
    {
     "name": "stdout",
     "output_type": "stream",
     "text": [
      "10\n"
     ]
    }
   ],
   "source": [
    "print(Kmin)"
   ]
  },
  {
   "cell_type": "markdown",
   "metadata": {},
   "source": [
    "La cantidad total de pruebas, dado el $K$ encontrado es:"
   ]
  },
  {
   "cell_type": "code",
   "execution_count": 345,
   "metadata": {},
   "outputs": [
    {
     "name": "stdout",
     "output_type": "stream",
     "text": [
      "127\n"
     ]
    }
   ],
   "source": [
    "print(cpmin)"
   ]
  },
  {
   "cell_type": "markdown",
   "metadata": {},
   "source": [
    "Se observa, al comparar con los resultados de b), que la cantidad de pruebas totales es menor. Esto se debe principalemte a que al encontrarse los 8 perros dejan de ralizarce las pruebas."
   ]
  }
 ],
 "metadata": {
  "kernelspec": {
   "display_name": "Python 3",
   "language": "python",
   "name": "python3"
  },
  "language_info": {
   "codemirror_mode": {
    "name": "ipython",
    "version": 3
   },
   "file_extension": ".py",
   "mimetype": "text/x-python",
   "name": "python",
   "nbconvert_exporter": "python",
   "pygments_lexer": "ipython3",
   "version": "3.6.8"
  }
 },
 "nbformat": 4,
 "nbformat_minor": 2
}
